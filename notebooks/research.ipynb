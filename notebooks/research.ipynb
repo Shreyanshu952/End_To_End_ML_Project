{
 "cells": [
  {
   "cell_type": "markdown",
   "metadata": {},
   "source": [
    "#### practice codes for logging, exceptions and utils"
   ]
  },
  {
   "cell_type": "markdown",
   "metadata": {},
   "source": [
    "### Logging"
   ]
  },
  {
   "cell_type": "code",
   "execution_count": 2,
   "metadata": {},
   "outputs": [],
   "source": [
    "import logging\n",
    "import os\n",
    "from datetime import datetime"
   ]
  },
  {
   "cell_type": "code",
   "execution_count": 3,
   "metadata": {},
   "outputs": [
    {
     "data": {
      "text/plain": [
       "datetime.datetime(2023, 11, 12, 1, 4, 0, 746464)"
      ]
     },
     "execution_count": 3,
     "metadata": {},
     "output_type": "execute_result"
    }
   ],
   "source": [
    "# getting current date and time\n",
    "\n",
    "datetime.now()"
   ]
  },
  {
   "cell_type": "code",
   "execution_count": 4,
   "metadata": {},
   "outputs": [
    {
     "data": {
      "text/plain": [
       "'11_12_2023_01_04_00.log'"
      ]
     },
     "execution_count": 4,
     "metadata": {},
     "output_type": "execute_result"
    }
   ],
   "source": [
    "# format for logging file name\n",
    "\n",
    "f\"{datetime.now().strftime('%m_%d_%Y_%H_%M_%S')}.log\""
   ]
  },
  {
   "cell_type": "markdown",
   "metadata": {},
   "source": [
    "### About f\"{datetime.now().strftime('%m_%d_%Y_%H_%M_%S')}.log\"\n",
    "\n",
    "The code you provided is a Python f-string that generates a string based on the current date and time. Here's what each part does:\n",
    "\n",
    "1. datetime.now(): This part of the code gets the current date and time. To use this, you need to import the datetime module from the datetime library.\n",
    "\n",
    "2. .strftime('%m_%d_%Y_%H_%M_%S'): This part of the code formats the date and time as a string according to the specified format. Each format code represents a component of the date and time:\n",
    "    - %m: Month (01-12)\n",
    "    - %d: Day of the month (01-31)\n",
    "    - %Y: Year with century as a decimal number (0001, 0002, …, 2013, 2014, …, 9998, 9999)\n",
    "    - %H: Hour (24-hour clock) (00-23)\n",
    "    - %M: Minute (00-59)\n",
    "    - %S: Second (00-59)\n",
    "\n",
    "3. .log: This is a string literal representing the file extension \".log\" for log files.\n",
    "\n",
    "The entire code generates a string that includes the current date and time formatted as \"month_day_year_hour_minute_second.log\". \n",
    "\n",
    "This is commonly used for timestamping log files, making each log file unique and identifiable based on when it was created. \n",
    "\n",
    "For example, if you ran the code at 12:34:56 on November 9, 2023, the resulting string might be \"11_09_2023_12_34_56.log\"."
   ]
  },
  {
   "cell_type": "code",
   "execution_count": 5,
   "metadata": {},
   "outputs": [
    {
     "data": {
      "text/plain": [
       "'d:\\\\iNeuron Course\\\\End_To_End_ML_Project\\\\notebooks'"
      ]
     },
     "execution_count": 5,
     "metadata": {},
     "output_type": "execute_result"
    }
   ],
   "source": [
    "# current working directory\n",
    "\n",
    "os.getcwd()"
   ]
  },
  {
   "cell_type": "code",
   "execution_count": 6,
   "metadata": {},
   "outputs": [
    {
     "data": {
      "text/plain": [
       "'d:\\\\iNeuron Course\\\\End_To_End_ML_Project\\\\notebooks\\\\logs'"
      ]
     },
     "execution_count": 6,
     "metadata": {},
     "output_type": "execute_result"
    }
   ],
   "source": [
    "# joining a log file with the current working notebooks folder\n",
    "\n",
    "log_path=os.path.join(os.getcwd(), \"logs\")\n",
    "log_path"
   ]
  },
  {
   "cell_type": "code",
   "execution_count": 7,
   "metadata": {},
   "outputs": [],
   "source": [
    "# making the directory of log_path\n",
    "\n",
    "os.makedirs(log_path, exist_ok=True)"
   ]
  },
  {
   "cell_type": "code",
   "execution_count": 8,
   "metadata": {},
   "outputs": [],
   "source": [
    "# importing logging from logging.py file\n",
    "\n",
    "from src.DimondPricePrediction.logger import logging"
   ]
  },
  {
   "cell_type": "code",
   "execution_count": 9,
   "metadata": {},
   "outputs": [],
   "source": [
    "logging.info(\"Here is my first message\")"
   ]
  },
  {
   "cell_type": "code",
   "execution_count": 10,
   "metadata": {},
   "outputs": [],
   "source": [
    "logging.info(\"Here I am testing\")"
   ]
  },
  {
   "cell_type": "markdown",
   "metadata": {},
   "source": [
    "### Exception"
   ]
  },
  {
   "cell_type": "code",
   "execution_count": 11,
   "metadata": {},
   "outputs": [],
   "source": [
    "import sys"
   ]
  },
  {
   "cell_type": "code",
   "execution_count": 12,
   "metadata": {},
   "outputs": [],
   "source": [
    "class customexception (Exception):\n",
    "\n",
    "    def __init__(self, error_message, error_details:sys):\n",
    "\n",
    "        self.error_message=error_message\n",
    "        _,_,exc_tb=error_details.exc_info()\n",
    "\n",
    "        self.line_no = exc_tb.tb_lineno     \n",
    "        self.file_name = exc_tb.tb_frame.f_code.co_filename"
   ]
  },
  {
   "cell_type": "code",
   "execution_count": 15,
   "metadata": {},
   "outputs": [
    {
     "data": {
      "text/plain": [
       "(None, None, None)"
      ]
     },
     "execution_count": 15,
     "metadata": {},
     "output_type": "execute_result"
    }
   ],
   "source": [
    "sys.exc_info()"
   ]
  },
  {
   "cell_type": "code",
   "execution_count": 26,
   "metadata": {},
   "outputs": [
    {
     "name": "stdout",
     "output_type": "stream",
     "text": [
      "(<class 'ZeroDivisionError'>, ZeroDivisionError('division by zero'), <traceback object at 0x000001CF540E2440>)\n",
      "4\n",
      "C:\\Users\\shrut\\AppData\\Local\\Temp\\ipykernel_31176\\3929056187.py\n",
      "division by zero\n"
     ]
    }
   ],
   "source": [
    "try:\n",
    "    a=5\n",
    "    b=0\n",
    "    print(a/b)\n",
    "\n",
    "except Exception as e:\n",
    "    _,_,exc_tb = sys.exc_info()\n",
    "    print(sys.exc_info())\n",
    "\n",
    "    print(exc_tb.tb_lineno)\n",
    "    print(exc_tb.tb_frame.f_code.co_filename)\n",
    "    print(e)"
   ]
  },
  {
   "cell_type": "code",
   "execution_count": 8,
   "metadata": {},
   "outputs": [],
   "source": [
    "os.makedirs(os.path.dirname(os.path.join(\"artifacts\",\"raw.csv\")),exist_ok=True)"
   ]
  }
 ],
 "metadata": {
  "kernelspec": {
   "display_name": "Python 3",
   "language": "python",
   "name": "python3"
  },
  "language_info": {
   "codemirror_mode": {
    "name": "ipython",
    "version": 3
   },
   "file_extension": ".py",
   "mimetype": "text/x-python",
   "name": "python",
   "nbconvert_exporter": "python",
   "pygments_lexer": "ipython3",
   "version": "3.8.0"
  }
 },
 "nbformat": 4,
 "nbformat_minor": 2
}
